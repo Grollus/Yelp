{
 "cells": [
  {
   "cell_type": "code",
   "execution_count": 1,
   "metadata": {},
   "outputs": [],
   "source": [
    "import sys, os, re, csv, codecs, numpy as np, pandas as pd\n",
    "from sklearn.model_selection import train_test_split"
   ]
  },
  {
   "cell_type": "code",
   "execution_count": 2,
   "metadata": {},
   "outputs": [
    {
     "name": "stderr",
     "output_type": "stream",
     "text": [
      "/home/adam/anaconda3/lib/python3.6/site-packages/h5py/__init__.py:34: FutureWarning: Conversion of the second argument of issubdtype from `float` to `np.floating` is deprecated. In future, it will be treated as `np.float64 == np.dtype(float).type`.\n",
      "  from ._conv import register_converters as _register_converters\n",
      "Using TensorFlow backend.\n"
     ]
    }
   ],
   "source": [
    "from keras.preprocessing.text import Tokenizer\n",
    "from keras.preprocessing.sequence import pad_sequences\n",
    "from keras.layers import Dense, Input, LSTM, Embedding, Dropout, Activation\n",
    "from keras.layers import Bidirectional, GlobalMaxPool1D\n",
    "from keras.models import Model\n",
    "from keras import initializers, regularizers, constraints, optimizers, layers\n",
    "from keras.utils import to_categorical"
   ]
  },
  {
   "cell_type": "code",
   "execution_count": 3,
   "metadata": {},
   "outputs": [],
   "source": [
    "raw_data_path = '/home/adam/R/Yelp/dataset/model_dataset_large.csv'"
   ]
  },
  {
   "cell_type": "code",
   "execution_count": 4,
   "metadata": {},
   "outputs": [],
   "source": [
    "EMBEDDING_FILE = f'/home/adam/R/Yelp/dataset/glove.6B.50d.txt'"
   ]
  },
  {
   "cell_type": "code",
   "execution_count": 5,
   "metadata": {},
   "outputs": [],
   "source": [
    "full = pd.read_csv(raw_data_path, usecols = ['stars', 'text'])"
   ]
  },
  {
   "cell_type": "code",
   "execution_count": null,
   "metadata": {},
   "outputs": [],
   "source": [
    "full.head()"
   ]
  },
  {
   "cell_type": "code",
   "execution_count": null,
   "metadata": {},
   "outputs": [],
   "source": [
    "full.shape"
   ]
  },
  {
   "cell_type": "code",
   "execution_count": 6,
   "metadata": {},
   "outputs": [],
   "source": [
    "# Pos/Neg \n",
    "reviews = full[full.stars!=3]"
   ]
  },
  {
   "cell_type": "code",
   "execution_count": 7,
   "metadata": {},
   "outputs": [
    {
     "data": {
      "text/plain": [
       "array([5, 4, 1, 2])"
      ]
     },
     "execution_count": 7,
     "metadata": {},
     "output_type": "execute_result"
    }
   ],
   "source": [
    "reviews.stars.unique()"
   ]
  },
  {
   "cell_type": "code",
   "execution_count": 7,
   "metadata": {},
   "outputs": [
    {
     "name": "stderr",
     "output_type": "stream",
     "text": [
      "/home/adam/anaconda3/lib/python3.6/site-packages/ipykernel_launcher.py:1: SettingWithCopyWarning: \n",
      "A value is trying to be set on a copy of a slice from a DataFrame.\n",
      "Try using .loc[row_indexer,col_indexer] = value instead\n",
      "\n",
      "See the caveats in the documentation: http://pandas.pydata.org/pandas-docs/stable/indexing.html#indexing-view-versus-copy\n",
      "  \"\"\"Entry point for launching an IPython kernel.\n"
     ]
    }
   ],
   "source": [
    "reviews['labels'] = reviews['stars'].apply(lambda x:1 if x > 3 else 0)"
   ]
  },
  {
   "cell_type": "code",
   "execution_count": 8,
   "metadata": {},
   "outputs": [],
   "source": [
    "reviews = reviews.drop(\"stars\", axis = 1)"
   ]
  },
  {
   "cell_type": "code",
   "execution_count": 9,
   "metadata": {},
   "outputs": [
    {
     "data": {
      "text/html": [
       "<div>\n",
       "<style scoped>\n",
       "    .dataframe tbody tr th:only-of-type {\n",
       "        vertical-align: middle;\n",
       "    }\n",
       "\n",
       "    .dataframe tbody tr th {\n",
       "        vertical-align: top;\n",
       "    }\n",
       "\n",
       "    .dataframe thead th {\n",
       "        text-align: right;\n",
       "    }\n",
       "</style>\n",
       "<table border=\"1\" class=\"dataframe\">\n",
       "  <thead>\n",
       "    <tr style=\"text-align: right;\">\n",
       "      <th></th>\n",
       "      <th>text</th>\n",
       "      <th>labels</th>\n",
       "    </tr>\n",
       "  </thead>\n",
       "  <tbody>\n",
       "    <tr>\n",
       "      <th>0</th>\n",
       "      <td>Stopped in on a Thursday around 5. Soft lighti...</td>\n",
       "      <td>1</td>\n",
       "    </tr>\n",
       "    <tr>\n",
       "      <th>1</th>\n",
       "      <td>AYCE appetizers, AYCE daily specials and AYCE ...</td>\n",
       "      <td>1</td>\n",
       "    </tr>\n",
       "    <tr>\n",
       "      <th>2</th>\n",
       "      <td>Food here is always great. Place looks insigni...</td>\n",
       "      <td>1</td>\n",
       "    </tr>\n",
       "    <tr>\n",
       "      <th>6</th>\n",
       "      <td>SO yummy! We came here for breakfast and to sa...</td>\n",
       "      <td>1</td>\n",
       "    </tr>\n",
       "    <tr>\n",
       "      <th>7</th>\n",
       "      <td>Favorite spots in Vegas during the night after...</td>\n",
       "      <td>1</td>\n",
       "    </tr>\n",
       "  </tbody>\n",
       "</table>\n",
       "</div>"
      ],
      "text/plain": [
       "                                                text  labels\n",
       "0  Stopped in on a Thursday around 5. Soft lighti...       1\n",
       "1  AYCE appetizers, AYCE daily specials and AYCE ...       1\n",
       "2  Food here is always great. Place looks insigni...       1\n",
       "6  SO yummy! We came here for breakfast and to sa...       1\n",
       "7  Favorite spots in Vegas during the night after...       1"
      ]
     },
     "execution_count": 9,
     "metadata": {},
     "output_type": "execute_result"
    }
   ],
   "source": [
    "reviews.head()"
   ]
  },
  {
   "cell_type": "code",
   "execution_count": 10,
   "metadata": {},
   "outputs": [],
   "source": [
    "texts = reviews['text'].values\n",
    "labels = reviews['labels'].values"
   ]
  },
  {
   "cell_type": "code",
   "execution_count": 20,
   "metadata": {},
   "outputs": [
    {
     "data": {
      "text/plain": [
       "array([\"Stopped in on a Thursday around 5. Soft lighting, patio seating with very little outside nose, right next to a quaint little courtyard. Very relaxed atmosphere. Comfy for a small space, but with enough room that you're not on top of other guests. \\n\\nHappy hour prices were very reasonable. 2 flatbreads and 2 beers for $16. The flatbreads we got (Margarita and BBQ Chicken) were delicious and good sized. \\n\\nService was quick and very friendly. He stopped the table when he was needed and left us alone when he wasn't. \\n\\nHighly recommend popping in for a drink and a bite to eat! I will definitely be back!\",\n",
       "       \"AYCE appetizers, AYCE daily specials and AYCE dessert.  That, to me, is what makes Goyemon stand out above the competition.  We're not just talking miso soup or mochi ice cream either!  Delicious pork belly, yummy grilled veggies, daily sushi specials, green tea cake, black sesame creme brulee...these are some unique offerings.\\n\\nSushi here is good, and the daily specials always offer a good variety of fish to try.  All of my visits start out with me ordering one of every special, both sushi and grilled items.  The one thing that I haven't really been fond of is the rice.  I know that they get very busy, but it seems like their sushi rice is almost fresh from the rice cooker; by time the sushi gets to the table, the rice is warm and the fish feels like it's been sitting at room temperature for a while.  It's never been bad enough to ruin a meal, but it is something I notice each visit.  To be fair, other people I've dined with either don't notice it or it isn't a big deal, so it could be a personal thing.\\n\\nOutside of my little rice quirk, Goyemon is a solid choice for sushi.  It has a big roll selection for your casual sushi friends, as well as a good fish selection for you nigiri folk.  Add in the appetizers and desserts to help cleanse your palate, and you have a dinner spot fit for most, if not all of your friends!\",\n",
       "       'Food here is always great. Place looks insignificant from the outside- I think they make most of their money from catering. Guys who run the place are always super friendly and helpful. Low prices and it doubles as a grocery store. I suggest buying some baba ganoush  to go. Kind of place you stop into for lunch or a snack.',\n",
       "       ...,\n",
       "       'I\\'ll first start by saying I easily could go 1 star but I went 2 because the beer tastes cold and fresh, I can see how you might like this place if you just  want to drink and smoke, but DAMN you must do a lot of laundry. I didn\\'t realize an innocent exploration for dinner would ruin my clothes for the week. Yes, that\\'s how awful it smells.\\nI felt like I was on the show \"bar rescue\" as I was eating, but I didn\\'t have the luxury of being in communication with John. Why does this place have so many tables when I guarantee they never have more than 10-15 people inside. The smoking definitely scares off people, oh yea and the food was mediocre at best. Damn I smell bad now.',\n",
       "       'Avocado toast is wonderful. Sandwiches are delicious. Lemonade is quite strong. Good service. \\n\\nBut, it may be too rich for me. My stomach is somewhat upset after eating here sometimes. Still. Its a good breakfast spot.',\n",
       "       \"i l0ved it! \\n\\neverything was perfect..... i mean the right vibe, the bed's were so comfy and they have some bomb yard sticks! the workers were all really nice :).. i must say it was perfect!\"],\n",
       "      dtype=object)"
      ]
     },
     "execution_count": 20,
     "metadata": {},
     "output_type": "execute_result"
    }
   ],
   "source": [
    "texts"
   ]
  },
  {
   "cell_type": "code",
   "execution_count": 11,
   "metadata": {},
   "outputs": [],
   "source": [
    "MAX_NUM_WORDS=20000 # how many unique words to use (i.e num rows in embedding vector)\n",
    "MAX_SEQUENCE_LENGTH=100 # max number of words in a review to use\n",
    "\n",
    "tokenizer = Tokenizer(num_words =MAX_NUM_WORDS)\n",
    "tokenizer.fit_on_texts(texts)\n",
    "sequences = tokenizer.texts_to_sequences(texts)\n",
    "\n",
    "data = pad_sequences(sequences, maxlen=MAX_SEQUENCE_LENGTH)"
   ]
  },
  {
   "cell_type": "code",
   "execution_count": 12,
   "metadata": {},
   "outputs": [],
   "source": [
    "labels = to_categorical(np.asarray(labels))"
   ]
  },
  {
   "cell_type": "code",
   "execution_count": null,
   "metadata": {},
   "outputs": [],
   "source": [
    "labels"
   ]
  },
  {
   "cell_type": "code",
   "execution_count": 13,
   "metadata": {},
   "outputs": [],
   "source": [
    "valid_split = 0.2\n",
    "\n",
    "indices = np.arange(data.shape[0])\n",
    "np.random.shuffle(indices)\n",
    "data = data[indices]\n",
    "labels = labels[indices]\n",
    "nb_validation_samples = int(valid_split * data.shape[0])\n",
    "\n",
    "x_train = data[: -nb_validation_samples]\n",
    "y_train = labels[:-nb_validation_samples]\n",
    "x_val = data[-nb_validation_samples:]\n",
    "y_val = labels[-nb_validation_samples:]\n",
    "word_index = tokenizer.word_index"
   ]
  },
  {
   "cell_type": "code",
   "execution_count": 14,
   "metadata": {},
   "outputs": [
    {
     "name": "stdout",
     "output_type": "stream",
     "text": [
      "Found 400000 word vectors.\n"
     ]
    }
   ],
   "source": [
    "embeddings_index = {}\n",
    "GLOVE_DIR = '/home/adam/R/Yelp/dataset/'\n",
    "f = open(os.path.join(GLOVE_DIR, 'glove.6B.50d.txt'))\n",
    "for line in f:\n",
    "    values = line.split()\n",
    "    word = values[0]\n",
    "    coefs = np.asarray(values[1:], dtype='float32')\n",
    "    embeddings_index[word] = coefs\n",
    "f.close()\n",
    "\n",
    "print('Found %s word vectors.' % len(embeddings_index))"
   ]
  },
  {
   "cell_type": "code",
   "execution_count": 15,
   "metadata": {},
   "outputs": [],
   "source": [
    "EMBEDDING_DIM = 50\n",
    "embedding_matrix = np.zeros((len(word_index) + 1, EMBEDDING_DIM))\n",
    "for word, i in word_index.items():\n",
    "    embedding_vector = embeddings_index.get(word)\n",
    "    if embedding_vector is not None:\n",
    "        # words not found in embedding index will be all-zeros.\n",
    "        embedding_matrix[i] = embedding_vector"
   ]
  },
  {
   "cell_type": "code",
   "execution_count": 16,
   "metadata": {},
   "outputs": [],
   "source": [
    "embedding_layer = Embedding(len(word_index) + 1,\n",
    "                           EMBEDDING_DIM,\n",
    "                           weights = [embedding_matrix],\n",
    "                           input_length = MAX_SEQUENCE_LENGTH,\n",
    "                           trainable = False)"
   ]
  },
  {
   "cell_type": "code",
   "execution_count": 17,
   "metadata": {},
   "outputs": [],
   "source": [
    "inp = Input(shape = (MAX_SEQUENCE_LENGTH,))\n",
    "x = embedded_seqeuences = embedding_layer(inp)\n",
    "x = Bidirectional(LSTM(50, return_sequences=True, dropout=0.1, recurrent_dropout=0.1))(x)\n",
    "x = GlobalMaxPool1D()(x)\n",
    "x = Dense(50, activation='relu')(x)\n",
    "x = Dropout(0.1)(x)\n",
    "x = Dense(2, activation='sigmoid')(x)\n",
    "model = Model(inputs = inp, outputs = x)\n",
    "model.compile(loss = 'binary_crossentropy', optimizer = 'adam', metrics = ['accuracy'])\n"
   ]
  },
  {
   "cell_type": "code",
   "execution_count": 18,
   "metadata": {},
   "outputs": [
    {
     "name": "stdout",
     "output_type": "stream",
     "text": [
      "Train on 208687 samples, validate on 52171 samples\n",
      "Epoch 1/2\n",
      "208687/208687 [==============================] - 50s 238us/step - loss: 0.3965 - acc: 0.8219 - val_loss: 0.2505 - val_acc: 0.8969\n",
      "Epoch 2/2\n",
      "208687/208687 [==============================] - 48s 232us/step - loss: 0.2414 - acc: 0.9012 - val_loss: 0.2005 - val_acc: 0.9175\n"
     ]
    },
    {
     "data": {
      "text/plain": [
       "<keras.callbacks.History at 0x7f976e8dafd0>"
      ]
     },
     "execution_count": 18,
     "metadata": {},
     "output_type": "execute_result"
    }
   ],
   "source": [
    "model.fit(x_train, y_train, validation_data= (x_val, y_val),\n",
    "         epochs = 2, batch_size = 1024)"
   ]
  },
  {
   "cell_type": "code",
   "execution_count": null,
   "metadata": {},
   "outputs": [],
   "source": []
  }
 ],
 "metadata": {
  "kernelspec": {
   "display_name": "Python 3",
   "language": "python",
   "name": "python3"
  },
  "language_info": {
   "codemirror_mode": {
    "name": "ipython",
    "version": 3
   },
   "file_extension": ".py",
   "mimetype": "text/x-python",
   "name": "python",
   "nbconvert_exporter": "python",
   "pygments_lexer": "ipython3",
   "version": "3.6.2"
  }
 },
 "nbformat": 4,
 "nbformat_minor": 2
}
